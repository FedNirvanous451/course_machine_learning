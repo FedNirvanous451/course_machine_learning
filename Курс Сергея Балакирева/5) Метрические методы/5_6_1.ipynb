{
 "cells": [
  {
   "cell_type": "code",
   "execution_count": null,
   "id": "e793109f",
   "metadata": {},
   "outputs": [
    {
     "data": {
      "text/plain": [
       "[]"
      ]
     },
     "execution_count": 6,
     "metadata": {},
     "output_type": "execute_result"
    }
   ],
   "source": [
    "import numpy as np\n",
    "from sklearn.cluster import DBSCAN\n",
    "\n",
    "X = [(166, 88), (147, 119), (133, 147), (113, 175), (91, 92), (120, 126), (146, 151), (172, 174), (94, 192), (187, 193), (328, 82), (299, 97), (277, 131), (280, 171), (299, 198), (348, 194), (378, 153), (372, 95), (222, 169), (332, 141), (69, 256), (110, 258), (139, 257), (179, 256), (210, 256), (248, 256), (295, 256), (322, 254), (350, 252), (377, 251), (400, 247), (403, 260), (378, 278), (341, 273), (306, 274), (277, 275), (245, 274), (222, 275), (193, 276), (170, 276), (147, 279), (120, 274), (91, 275), (65, 279)]\n",
    "X = np.array(X)\n",
    "\n",
    "clustering = DBSCAN(eps=55, min_samples=3, metric='euclidean')\n",
    "res = clustering.fit_predict(X)\n",
    "X1 = [X[i] for i in range(len(X)) if res[i] == 0]\n",
    "X2 = [X[i] for i in range(len(X)) if res[i] == 1]\n",
    "X3 = [X[i] for i in range(len(X)) if res[i] == 2]\n",
    "Noise = [X[i] for i in range(len(X)) if res[i] == -1]\n",
    "\"\"\"\n",
    "красивая работа с матрицами, а не с массивами\n",
    "X1 = X[res == 0]\n",
    "X2 = X[res == 1]\n",
    "X3 = X[res == 2]\n",
    "Noise = X[res == -1]\"\"\""
   ]
  }
 ],
 "metadata": {
  "kernelspec": {
   "display_name": "Python 3",
   "language": "python",
   "name": "python3"
  },
  "language_info": {
   "codemirror_mode": {
    "name": "ipython",
    "version": 3
   },
   "file_extension": ".py",
   "mimetype": "text/x-python",
   "name": "python",
   "nbconvert_exporter": "python",
   "pygments_lexer": "ipython3",
   "version": "3.12.6"
  }
 },
 "nbformat": 4,
 "nbformat_minor": 5
}
