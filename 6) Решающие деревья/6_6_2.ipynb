{
 "cells": [
  {
   "cell_type": "code",
   "execution_count": 4,
   "id": "3439e0ca",
   "metadata": {},
   "outputs": [
    {
     "data": {
      "text/plain": [
       "(array([-0.15624321, -0.18659238, -0.20082685, -0.19465277, -0.2227951 ,\n",
       "        -0.27121261, -0.38147761, -0.90706922, -0.96751288, -1.32188117,\n",
       "        -1.41929411, -1.46392873, -1.41421128, -1.38929567, -1.30803276,\n",
       "        -1.2865281 , -1.2879849 , -1.30222944, -1.27679248, -1.12328814,\n",
       "        -0.84754416, -0.498437  , -0.29763663,  0.19650071,  0.27658681,\n",
       "         0.47030898,  0.49000903,  0.55209681,  0.69542145,  0.78977264,\n",
       "         1.03170611,  1.11505217,  1.14951318,  1.0561402 ,  1.00626823,\n",
       "         0.6728574 ,  0.3680426 ,  0.22038982,  0.08454715,  0.05996976,\n",
       "        -0.01056017, -0.01056017, -0.28511199, -0.40306908, -0.55097485,\n",
       "        -0.67611988, -0.67539935, -0.54571939, -0.44219053, -0.29092015,\n",
       "         0.19681795,  0.329769  ,  0.39241035,  0.44529578,  0.86874637,\n",
       "         1.03568004,  1.19299557,  1.45477741,  1.57364989,  1.75435464]),\n",
       " 0.005894467087973422)"
      ]
     },
     "execution_count": 4,
     "metadata": {},
     "output_type": "execute_result"
    }
   ],
   "source": [
    "import numpy as np\n",
    "from sklearn.ensemble import RandomForestRegressor\n",
    "\n",
    "x = np.arange(-3, 3, 0.1)\n",
    "y = 0.3 * x + np.cos(2*x) + 0.2 * np.sin(7*x) # + np.random.normal(0.0, 0.1, n_samples)\n",
    "x = x.reshape(-1, 1)\n",
    "\n",
    "T = 5  # число деревьев\n",
    "\n",
    "rf = RandomForestRegressor(max_depth=8, n_estimators=T, random_state=1)\n",
    "rf.fit(x, y)\n",
    "pr_y = rf.predict(x)\n",
    "Q = np.mean((pr_y- y.reshape(-1)) ** 2)\n",
    "pr_y, Q"
   ]
  }
 ],
 "metadata": {
  "kernelspec": {
   "display_name": "Python 3",
   "language": "python",
   "name": "python3"
  },
  "language_info": {
   "codemirror_mode": {
    "name": "ipython",
    "version": 3
   },
   "file_extension": ".py",
   "mimetype": "text/x-python",
   "name": "python",
   "nbconvert_exporter": "python",
   "pygments_lexer": "ipython3",
   "version": "3.12.6"
  }
 },
 "nbformat": 4,
 "nbformat_minor": 5
}
