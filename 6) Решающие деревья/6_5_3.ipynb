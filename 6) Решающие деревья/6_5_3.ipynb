{
 "cells": [
  {
   "cell_type": "code",
   "execution_count": 3,
   "id": "8a847a45",
   "metadata": {},
   "outputs": [
    {
     "data": {
      "text/plain": [
       "(array([ 3.29467912,  2.93875984,  2.53523393,  2.09665668,  1.6454746 ,\n",
       "         1.21029225,  0.82116668,  0.36249163,  0.36249163,  0.36249163,\n",
       "         0.36249163,  0.36249163,  0.36249163,  0.36249163,  0.36249163,\n",
       "         0.36249163,  0.36249163,  0.36249163,  0.36249163, -0.22421764,\n",
       "        -0.22421764, -0.22421764, -0.22421764, -0.22421764, -0.22421764,\n",
       "        -0.22421764, -0.22421764, -0.22421764,  0.2604469 ,  0.2604469 ,\n",
       "         0.2604469 ,  0.2604469 ,  0.2604469 ,  0.2604469 ,  0.2604469 ,\n",
       "         0.2604469 ,  0.2604469 ,  0.2604469 , -0.68199688, -0.68199688,\n",
       "        -1.00489085, -1.00489085, -1.00489085, -1.00489085, -1.00489085,\n",
       "        -1.00489085, -1.00489085, -1.00489085, -1.54881114, -1.9433857 ]),\n",
       " 0.033664185404530846)"
      ]
     },
     "execution_count": 3,
     "metadata": {},
     "output_type": "execute_result"
    }
   ],
   "source": [
    "import numpy as np\n",
    "from sklearn import tree\n",
    "\n",
    "x = np.arange(-2, 3, 0.1).reshape(-1, 1)\n",
    "y = 0.3 * x ** 2 - 0.2 * x ** 3 - 0.5 * np.sin(4*x)\n",
    "\n",
    "clf_tree = tree.DecisionTreeRegressor(max_depth=4)\n",
    "clf_tree.fit(x, y)\n",
    "predict = clf_tree.predict(x)\n",
    "Q = np.mean((predict- y.reshape(-1)) ** 2)\n",
    "predict, Q"
   ]
  }
 ],
 "metadata": {
  "kernelspec": {
   "display_name": "Python 3",
   "language": "python",
   "name": "python3"
  },
  "language_info": {
   "codemirror_mode": {
    "name": "ipython",
    "version": 3
   },
   "file_extension": ".py",
   "mimetype": "text/x-python",
   "name": "python",
   "nbconvert_exporter": "python",
   "pygments_lexer": "ipython3",
   "version": "3.12.6"
  }
 },
 "nbformat": 4,
 "nbformat_minor": 5
}
