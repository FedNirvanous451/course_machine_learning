{
 "cells": [
  {
   "cell_type": "code",
   "execution_count": 21,
   "id": "1a0b9116",
   "metadata": {},
   "outputs": [
    {
     "data": {
      "text/plain": [
       "-14.999999584065641"
      ]
     },
     "execution_count": 21,
     "metadata": {},
     "output_type": "execute_result"
    }
   ],
   "source": [
    "import numpy as np\n",
    "#ln (odds) = -1\n",
    "\n",
    "#e**(-1) == odds\n",
    "(1-np.exp(-0.8472979)/(1+np.exp(-0.8472979)))*50-50"
   ]
  },
  {
   "cell_type": "code",
   "execution_count": 10,
   "id": "121972f9",
   "metadata": {},
   "outputs": [
    {
     "data": {
      "text/plain": [
       "0.3448404862917294"
      ]
     },
     "execution_count": 10,
     "metadata": {},
     "output_type": "execute_result"
    }
   ],
   "source": [
    "\n",
    "np.log(24/41/(1-24/41))"
   ]
  }
 ],
 "metadata": {
  "kernelspec": {
   "display_name": "Python 3",
   "language": "python",
   "name": "python3"
  },
  "language_info": {
   "codemirror_mode": {
    "name": "ipython",
    "version": 3
   },
   "file_extension": ".py",
   "mimetype": "text/x-python",
   "name": "python",
   "nbconvert_exporter": "python",
   "pygments_lexer": "ipython3",
   "version": "3.12.6"
  }
 },
 "nbformat": 4,
 "nbformat_minor": 5
}
