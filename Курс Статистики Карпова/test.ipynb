{
 "cells": [
  {
   "cell_type": "code",
   "execution_count": null,
   "id": "1a0b9116",
   "metadata": {},
   "outputs": [
    {
     "data": {
      "text/plain": [
       "-2.3170959024707585e-05"
      ]
     },
     "execution_count": 5,
     "metadata": {},
     "output_type": "execute_result"
    }
   ],
   "source": [
    "import numpy as np\n",
    "from scipy.stats import binom\n",
    "\n",
    "# Пример использования:\n",
    "n = 100  # Количество подбрасываний монеты\n",
    "p = 0.5 # Вероятность выпадения орла (неуспех)\n",
    "k = 70   # Количество выпадений орла\n",
    "\n",
    "probability_orel = binom.pmf(k, n, p)\n",
    "probability_reshka = 1 - probability_orel\n",
    "np.log(probability_reshka)"
   ]
  }
 ],
 "metadata": {
  "kernelspec": {
   "display_name": "Python 3",
   "language": "python",
   "name": "python3"
  },
  "language_info": {
   "codemirror_mode": {
    "name": "ipython",
    "version": 3
   },
   "file_extension": ".py",
   "mimetype": "text/x-python",
   "name": "python",
   "nbconvert_exporter": "python",
   "pygments_lexer": "ipython3",
   "version": "3.12.6"
  }
 },
 "nbformat": 4,
 "nbformat_minor": 5
}
