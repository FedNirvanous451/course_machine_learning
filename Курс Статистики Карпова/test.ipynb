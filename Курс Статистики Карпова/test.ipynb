{
 "cells": [
  {
   "cell_type": "code",
   "execution_count": 10,
   "id": "1a0b9116",
   "metadata": {},
   "outputs": [
    {
     "data": {
      "text/plain": [
       "-14.999999584065641"
      ]
     },
     "execution_count": 10,
     "metadata": {},
     "output_type": "execute_result"
    }
   ],
   "source": [
    "import numpy as np\n",
    "#ln (odds) = -1\n",
    "\n",
    "#e**(-1) == odds\n",
    "(1-np.exp(-0.8472979)/(1+np.exp(-0.8472979)))*50-50"
   ]
  },
  {
   "cell_type": "code",
   "execution_count": 10,
   "id": "121972f9",
   "metadata": {},
   "outputs": [
    {
     "data": {
      "text/plain": [
       "0.3448404862917294"
      ]
     },
     "execution_count": 10,
     "metadata": {},
     "output_type": "execute_result"
    }
   ],
   "source": [
    "\n",
    "np.log(24/41/(1-24/41))"
   ]
  },
  {
   "cell_type": "code",
   "execution_count": 13,
   "id": "be6894f2",
   "metadata": {},
   "outputs": [
    {
     "data": {
      "text/plain": [
       "-0.8306737166858985"
      ]
     },
     "execution_count": 13,
     "metadata": {},
     "output_type": "execute_result"
    }
   ],
   "source": [
    "np.log(197/64)/np.log(93/360)"
   ]
  },
  {
   "cell_type": "code",
   "execution_count": 8,
   "id": "bb5c9a98",
   "metadata": {},
   "outputs": [
    {
     "data": {
      "text/plain": [
       "-0.8306612486147028"
      ]
     },
     "execution_count": 8,
     "metadata": {},
     "output_type": "execute_result"
    }
   ],
   "source": [
    "1/((-1.3534999999999997)/1.1243)"
   ]
  }
 ],
 "metadata": {
  "kernelspec": {
   "display_name": "Python 3",
   "language": "python",
   "name": "python3"
  },
  "language_info": {
   "codemirror_mode": {
    "name": "ipython",
    "version": 3
   },
   "file_extension": ".py",
   "mimetype": "text/x-python",
   "name": "python",
   "nbconvert_exporter": "python",
   "pygments_lexer": "ipython3",
   "version": "3.12.6"
  }
 },
 "nbformat": 4,
 "nbformat_minor": 5
}
