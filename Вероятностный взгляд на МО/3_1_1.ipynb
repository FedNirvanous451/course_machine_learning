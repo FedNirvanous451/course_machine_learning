{
 "cells": [
  {
   "cell_type": "code",
   "execution_count": 4,
   "metadata": {},
   "outputs": [
    {
     "name": "stdout",
     "output_type": "stream",
     "text": [
      "0.0\n"
     ]
    },
    {
     "data": {
      "text/plain": [
       "0.5"
      ]
     },
     "execution_count": 4,
     "metadata": {},
     "output_type": "execute_result"
    }
   ],
   "source": [
    "# a(x) = w.T * x\n",
    "# вычислите значение вероятности - нужно применять формулу сигмоидной функции \n",
    "\n",
    "import numpy as np\n",
    "import math\n",
    "\n",
    "x = np.array([1, 190, 70, 1, 300])\n",
    "w = np.array([20, -1, 3, 5, -0.15])\n",
    "M = float(np.dot(w.T, x) * (1))\n",
    "print(M) # скалярное произведение (отступ)\n",
    "sigma = 1 / (1 + np.exp(-M)) # сигмоидная функция\n",
    "sigma"
   ]
  }
 ],
 "metadata": {
  "kernelspec": {
   "display_name": "Python 3",
   "language": "python",
   "name": "python3"
  },
  "language_info": {
   "codemirror_mode": {
    "name": "ipython",
    "version": 3
   },
   "file_extension": ".py",
   "mimetype": "text/x-python",
   "name": "python",
   "nbconvert_exporter": "python",
   "pygments_lexer": "ipython3",
   "version": "3.12.6"
  }
 },
 "nbformat": 4,
 "nbformat_minor": 2
}
