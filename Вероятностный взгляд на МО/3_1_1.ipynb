{
 "cells": [
  {
   "cell_type": "code",
   "execution_count": 26,
   "metadata": {},
   "outputs": [
    {
     "name": "stdout",
     "output_type": "stream",
     "text": [
      "2.0\n"
     ]
    },
    {
     "data": {
      "text/plain": [
       "0.8807970779778823"
      ]
     },
     "execution_count": 26,
     "metadata": {},
     "output_type": "execute_result"
    }
   ],
   "source": [
    "# a(x) = w.T * x\n",
    "# вычислите значение вероятности - нужно применять формулу сигмоидной функции \n",
    "\n",
    "import numpy as np\n",
    "import math\n",
    "\n",
    "w = np.array([-330, 1, 3, 2, -0.15])\n",
    "x = np.array([1, 240, 80, 1, 1000])\n",
    "\n",
    "\n",
    "M = float(np.dot(w.T, x) * (1))\n",
    "print(M) # скалярное произведение (отступ)\n",
    "sigma = 1 / (1 + np.exp(-M)) # сигмоидная функция\n",
    "sigma"
   ]
  }
 ],
 "metadata": {
  "kernelspec": {
   "display_name": "Python 3",
   "language": "python",
   "name": "python3"
  },
  "language_info": {
   "codemirror_mode": {
    "name": "ipython",
    "version": 3
   },
   "file_extension": ".py",
   "mimetype": "text/x-python",
   "name": "python",
   "nbconvert_exporter": "python",
   "pygments_lexer": "ipython3",
   "version": "3.12.6"
  }
 },
 "nbformat": 4,
 "nbformat_minor": 2
}
